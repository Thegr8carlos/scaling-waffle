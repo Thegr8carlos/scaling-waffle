{
  "nbformat": 4,
  "nbformat_minor": 0,
  "metadata": {
    "colab": {
      "provenance": []
    },
    "kernelspec": {
      "name": "python3",
      "display_name": "Python 3"
    },
    "language_info": {
      "name": "python"
    }
  },
  "cells": [
    {
      "cell_type": "markdown",
      "source": [
        "# Data Science Ecosystem"
      ],
      "metadata": {
        "id": "nwyY9HrV3e7_"
      }
    },
    {
      "cell_type": "markdown",
      "source": [
        "In this notebook, Data Science Tools and Ecosystem are summarized."
      ],
      "metadata": {
        "id": "iyZgDVyM4Fhg"
      }
    },
    {
      "cell_type": "markdown",
      "source": [
        "Some of the popular languages that Data Scientists use are:\n",
        "1. python.\n",
        "2. R.\n",
        "3. SQL."
      ],
      "metadata": {
        "id": "AqRMgmSE4uZp"
      }
    },
    {
      "cell_type": "markdown",
      "source": [
        "Some of the commonly used libraries used by Data Scientists include:\n",
        "1. matplotlib\n",
        "2. numpy\n",
        "3. pandas"
      ],
      "metadata": {
        "id": "3JyKBdXg5TEg"
      }
    },
    {
      "cell_type": "markdown",
      "source": [
        "| Data Science Tools |\n",
        "| ------------------ |\n",
        "| Jupyter Notebook   |\n",
        "| RStudio            |\n",
        "| Apache Zeppelin    |"
      ],
      "metadata": {
        "id": "Zp3izmxr52Jf"
      }
    },
    {
      "cell_type": "markdown",
      "source": [
        "### Below are a few examples of evaluating arithmetic expressions in Python"
      ],
      "metadata": {
        "id": "LL_Rmxc56F3A"
      }
    },
    {
      "cell_type": "code",
      "source": [
        "# a simple way to evaluate expressions\n",
        "(3 * 4) + 5"
      ],
      "metadata": {
        "colab": {
          "base_uri": "https://localhost:8080/"
        },
        "id": "cx6w0jBZ6c6O",
        "outputId": "34a50d66-7974-4b9d-f845-eb5daf38ccf6"
      },
      "execution_count": 3,
      "outputs": [
        {
          "output_type": "execute_result",
          "data": {
            "text/plain": [
              "17"
            ]
          },
          "metadata": {},
          "execution_count": 3
        }
      ]
    },
    {
      "cell_type": "code",
      "source": [
        "#This will convert 200 minutes to hours by diving by 60\n",
        "hours = 200 / 60\n",
        "print(hours)"
      ],
      "metadata": {
        "colab": {
          "base_uri": "https://localhost:8080/"
        },
        "id": "rR9YP7fF6nAP",
        "outputId": "6f148b30-7bec-40b4-9066-4283140f1a62"
      },
      "execution_count": 5,
      "outputs": [
        {
          "output_type": "stream",
          "name": "stdout",
          "text": [
            "3.3333333333333335\n"
          ]
        }
      ]
    },
    {
      "cell_type": "markdown",
      "source": [
        "**Objectives:**\n",
        "\n",
        "- List popular languages for Data Science.\n",
        "- Explore data visualization tools and techniques.\n",
        "- Understand the basics of machine learning algorithms.\n",
        "- Learn about data manipulation and analysis.\n",
        "- Dive into statistical modeling for data interpretation."
      ],
      "metadata": {
        "id": "W6dT3kE97V_d"
      }
    },
    {
      "cell_type": "markdown",
      "source": [
        "## Author\n",
        "\n",
        "Carlos Ramirez Salas\n",
        "github : https://github.com/Thegr8carlos/scaling-waffle"
      ],
      "metadata": {
        "id": "AzYReGqK70fF"
      }
    }
  ]
}